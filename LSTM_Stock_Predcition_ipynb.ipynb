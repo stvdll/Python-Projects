{
  "cells": [
    {
      "cell_type": "markdown",
      "metadata": {
        "id": "view-in-github",
        "colab_type": "text"
      },
      "source": [
        "<a href=\"https://colab.research.google.com/github/stvdll/Python-Projects/blob/main/LSTM_Stock_Predcition_ipynb.ipynb\" target=\"_parent\"><img src=\"https://colab.research.google.com/assets/colab-badge.svg\" alt=\"Open In Colab\"/></a>"
      ]
    },
    {
      "cell_type": "code",
      "execution_count": 125,
      "metadata": {
        "id": "FazY5yq9GfBd"
      },
      "outputs": [],
      "source": [
        "import numpy as np\n",
        "import matplotlib.pyplot as plt\n",
        "import pandas as pd\n",
        "import yfinance as yf\n",
        "import tensorflow as tf\n",
        "from sklearn.preprocessing import MinMaxScaler\n",
        "\n",
        "stock = 'NVDA'\n",
        "ticker = yf.Ticker(stock)\n",
        "\n",
        "data = ticker.history(start = '2015-01-01')\n",
        "data = data.dropna()\n"
      ]
    },
    {
      "cell_type": "code",
      "source": [
        "data['Close'].pct_change().hist(bins=12)\n",
        "plt.title(f' Distrubution of Price Change - {stock}')\n",
        "plt.xlabel('percentages')                                 ## Zu erkennen ist, dass die prozentuale Kursveränderung zum vorherigen Tag normalverteilt ist.\n",
        "                                                        ## Gäbe es also ein Tag, wo die Aktie zu stark fällt oder steigt, würde es sich in der Theorie zum Open Price hin bewewegen\n",
        "                                                        ## Modell soll die Quantile gut einschätzen können\n",
        "                                                         ## Neuronale Netzwerk, soll diese Abhängigkeit in den Preisdaten erkennen\n",
        "                                                      ## Es wird ein LSTM Modell verwendet, weil es Memory hat und ideal für eine Zeitreihenanalyse ist."
      ],
      "metadata": {
        "colab": {
          "base_uri": "https://localhost:8080/",
          "height": 489
        },
        "id": "qgu-9W27EQEQ",
        "outputId": "ff7c4953-e1c6-47f8-b3b1-24353cc23662"
      },
      "execution_count": 126,
      "outputs": [
        {
          "output_type": "execute_result",
          "data": {
            "text/plain": [
              "Text(0.5, 0, 'percentages')"
            ]
          },
          "metadata": {},
          "execution_count": 126
        },
        {
          "output_type": "display_data",
          "data": {
            "text/plain": [
              "<Figure size 640x480 with 1 Axes>"
            ],
            "image/png": "[encoded data removed]"
          },
          "metadata": {}
        }
      ]
    },
    {
      "cell_type": "code",
      "source": [
        "data['p Veränderung'] = data['Close'].pct_change()\n",
        "\n",
        "data = data.dropna()\n"
      ],
      "metadata": {
        "id": "5jPs-4-RFrcq"
      },
      "execution_count": 127,
      "outputs": []
    },
    {
      "cell_type": "markdown",
      "source": [
        "Train-Test-Split"
      ],
      "metadata": {
        "id": "o3Crzzrn7eqD"
      }
    },
    {
      "cell_type": "code",
      "source": [
        "scaler = MinMaxScaler()\n",
        "\n",
        "traininput = np.array(scaler.fit_transform(data[['Close','p Veränderung']].iloc[:int(len(data)*0.8)])) #80% Train\n",
        "trainoutput = np.array(data['Close'].iloc[:int(len(data)*0.8)])\n",
        "\n",
        "\n",
        "\n",
        "testinput = np.array(scaler.transform(data[['Close','p Veränderung']].iloc[int(len(data)*0.8):]))\n",
        "testoutput = np.array(data['Close'].iloc[int(len(data)*0.8):])\n",
        "\n",
        "\n"
      ],
      "metadata": {
        "id": "x6qnRVea4ah4"
      },
      "execution_count": 128,
      "outputs": []
    },
    {
      "cell_type": "markdown",
      "source": [
        "Sequenz"
      ],
      "metadata": {
        "id": "ahCR00yo7j8y"
      }
    },
    {
      "cell_type": "code",
      "execution_count": 129,
      "metadata": {
        "id": "P2FDP__odHjB"
      },
      "outputs": [],
      "source": [
        "LOOKBACK = 3\n",
        "def slidingwindow(timestep):\n",
        "  input = []\n",
        "  output = []\n",
        "\n",
        "  for x in range(len(traininput)-timestep-1):\n",
        "\n",
        "    window = traininput[x:x+timestep]\n",
        "\n",
        "    index = 1 if trainoutput[timestep+x]> trainoutput[x + timestep-1] else 0\n",
        "\n",
        "\n",
        "    input.append(window)\n",
        "\n",
        "    output.append(index)\n",
        "\n",
        "  return np.array(input), np.array(output)\n",
        "\n",
        "\n",
        "\n",
        "\n"
      ]
    },
    {
      "cell_type": "markdown",
      "metadata": {
        "id": "QzdXWQEDreo6"
      },
      "source": [
        "Model training"
      ]
    },
    {
      "cell_type": "code",
      "execution_count": 130,
      "metadata": {
        "id": "ODwYmnp4rbnD",
        "colab": {
          "base_uri": "https://localhost:8080/"
        },
        "outputId": "97dd39d3-1fab-4760-c15f-d2546dde3169"
      },
      "outputs": [
        {
          "output_type": "stream",
          "name": "stdout",
          "text": [
            "Epoch 1/100\n"
          ]
        },
        {
          "output_type": "stream",
          "name": "stderr",
          "text": [
            "/usr/local/lib/python3.11/dist-packages/keras/src/layers/rnn/rnn.py:200: UserWarning: Do not pass an `input_shape`/`input_dim` argument to a layer. When using Sequential models, prefer using an `Input(shape)` object as the first layer in the model instead.\n",
            "  super().__init__(**kwargs)\n"
          ]
        },
        {
          "output_type": "stream",
          "name": "stdout",
          "text": [
            "\u001b[1m1/1\u001b[0m \u001b[32m━━━━━━━━━━━━━━━━━━━━\u001b[0m\u001b[37m\u001b[0m \u001b[1m3s\u001b[0m 3s/step - accuracy: 0.5000 - loss: 0.6933 - val_accuracy: 1.0000 - val_loss: 0.6862\n",
            "Epoch 2/100\n",
            "\u001b[1m1/1\u001b[0m \u001b[32m━━━━━━━━━━━━━━━━━━━━\u001b[0m\u001b[37m\u001b[0m \u001b[1m0s\u001b[0m 292ms/step - accuracy: 0.5000 - loss: 0.6958 - val_accuracy: 1.0000 - val_loss: 0.6837\n",
            "Epoch 3/100\n",
            "\u001b[1m1/1\u001b[0m \u001b[32m━━━━━━━━━━━━━━━━━━━━\u001b[0m\u001b[37m\u001b[0m \u001b[1m0s\u001b[0m 87ms/step - accuracy: 0.5000 - loss: 0.6905 - val_accuracy: 1.0000 - val_loss: 0.6816\n",
            "Epoch 4/100\n",
            "\u001b[1m1/1\u001b[0m \u001b[32m━━━━━━━━━━━━━━━━━━━━\u001b[0m\u001b[37m\u001b[0m \u001b[1m0s\u001b[0m 145ms/step - accuracy: 0.6250 - loss: 0.6952 - val_accuracy: 1.0000 - val_loss: 0.6800\n",
            "Epoch 5/100\n",
            "\u001b[1m1/1\u001b[0m \u001b[32m━━━━━━━━━━━━━━━━━━━━\u001b[0m\u001b[37m\u001b[0m \u001b[1m0s\u001b[0m 131ms/step - accuracy: 0.6250 - loss: 0.6914 - val_accuracy: 1.0000 - val_loss: 0.6782\n",
            "Epoch 6/100\n",
            "\u001b[1m1/1\u001b[0m \u001b[32m━━━━━━━━━━━━━━━━━━━━\u001b[0m\u001b[37m\u001b[0m \u001b[1m0s\u001b[0m 142ms/step - accuracy: 0.6250 - loss: 0.6900 - val_accuracy: 1.0000 - val_loss: 0.6760\n",
            "Epoch 7/100\n",
            "\u001b[1m1/1\u001b[0m \u001b[32m━━━━━━━━━━━━━━━━━━━━\u001b[0m\u001b[37m\u001b[0m \u001b[1m0s\u001b[0m 162ms/step - accuracy: 0.6250 - loss: 0.6877 - val_accuracy: 1.0000 - val_loss: 0.6734\n",
            "Epoch 8/100\n",
            "\u001b[1m1/1\u001b[0m \u001b[32m━━━━━━━━━━━━━━━━━━━━\u001b[0m\u001b[37m\u001b[0m \u001b[1m0s\u001b[0m 155ms/step - accuracy: 0.6250 - loss: 0.6906 - val_accuracy: 1.0000 - val_loss: 0.6710\n",
            "Epoch 9/100\n",
            "\u001b[1m1/1\u001b[0m \u001b[32m━━━━━━━━━━━━━━━━━━━━\u001b[0m\u001b[37m\u001b[0m \u001b[1m0s\u001b[0m 154ms/step - accuracy: 0.6250 - loss: 0.6886 - val_accuracy: 1.0000 - val_loss: 0.6688\n",
            "Epoch 10/100\n",
            "\u001b[1m1/1\u001b[0m \u001b[32m━━━━━━━━━━━━━━━━━━━━\u001b[0m\u001b[37m\u001b[0m \u001b[1m0s\u001b[0m 110ms/step - accuracy: 0.6250 - loss: 0.6848 - val_accuracy: 1.0000 - val_loss: 0.6665\n",
            "Epoch 11/100\n",
            "\u001b[1m1/1\u001b[0m \u001b[32m━━━━━━━━━━━━━━━━━━━━\u001b[0m\u001b[37m\u001b[0m \u001b[1m0s\u001b[0m 181ms/step - accuracy: 0.6250 - loss: 0.6814 - val_accuracy: 1.0000 - val_loss: 0.6639\n",
            "Epoch 12/100\n",
            "\u001b[1m1/1\u001b[0m \u001b[32m━━━━━━━━━━━━━━━━━━━━\u001b[0m\u001b[37m\u001b[0m \u001b[1m0s\u001b[0m 316ms/step - accuracy: 0.6250 - loss: 0.6886 - val_accuracy: 1.0000 - val_loss: 0.6613\n",
            "Epoch 13/100\n",
            "\u001b[1m1/1\u001b[0m \u001b[32m━━━━━━━━━━━━━━━━━━━━\u001b[0m\u001b[37m\u001b[0m \u001b[1m0s\u001b[0m 223ms/step - accuracy: 0.6250 - loss: 0.6870 - val_accuracy: 1.0000 - val_loss: 0.6586\n",
            "Epoch 14/100\n",
            "\u001b[1m1/1\u001b[0m \u001b[32m━━━━━━━━━━━━━━━━━━━━\u001b[0m\u001b[37m\u001b[0m \u001b[1m0s\u001b[0m 81ms/step - accuracy: 0.6250 - loss: 0.6917 - val_accuracy: 1.0000 - val_loss: 0.6563\n",
            "Epoch 15/100\n",
            "\u001b[1m1/1\u001b[0m \u001b[32m━━━━━━━━━━━━━━━━━━━━\u001b[0m\u001b[37m\u001b[0m \u001b[1m0s\u001b[0m 82ms/step - accuracy: 0.6250 - loss: 0.6800 - val_accuracy: 1.0000 - val_loss: 0.6537\n",
            "Epoch 16/100\n",
            "\u001b[1m1/1\u001b[0m \u001b[32m━━━━━━━━━━━━━━━━━━━━\u001b[0m\u001b[37m\u001b[0m \u001b[1m0s\u001b[0m 129ms/step - accuracy: 0.6250 - loss: 0.6925 - val_accuracy: 1.0000 - val_loss: 0.6511\n",
            "Epoch 17/100\n",
            "\u001b[1m1/1\u001b[0m \u001b[32m━━━━━━━━━━━━━━━━━━━━\u001b[0m\u001b[37m\u001b[0m \u001b[1m0s\u001b[0m 75ms/step - accuracy: 0.6250 - loss: 0.6875 - val_accuracy: 1.0000 - val_loss: 0.6485\n",
            "Epoch 18/100\n",
            "\u001b[1m1/1\u001b[0m \u001b[32m━━━━━━━━━━━━━━━━━━━━\u001b[0m\u001b[37m\u001b[0m \u001b[1m0s\u001b[0m 145ms/step - accuracy: 0.6250 - loss: 0.6891 - val_accuracy: 1.0000 - val_loss: 0.6459\n",
            "Epoch 19/100\n",
            "\u001b[1m1/1\u001b[0m \u001b[32m━━━━━━━━━━━━━━━━━━━━\u001b[0m\u001b[37m\u001b[0m \u001b[1m0s\u001b[0m 93ms/step - accuracy: 0.6250 - loss: 0.6850 - val_accuracy: 1.0000 - val_loss: 0.6433\n",
            "Epoch 20/100\n",
            "\u001b[1m1/1\u001b[0m \u001b[32m━━━━━━━━━━━━━━━━━━━━\u001b[0m\u001b[37m\u001b[0m \u001b[1m0s\u001b[0m 126ms/step - accuracy: 0.6250 - loss: 0.6853 - val_accuracy: 1.0000 - val_loss: 0.6408\n",
            "Epoch 21/100\n",
            "\u001b[1m1/1\u001b[0m \u001b[32m━━━━━━━━━━━━━━━━━━━━\u001b[0m\u001b[37m\u001b[0m \u001b[1m0s\u001b[0m 75ms/step - accuracy: 0.6250 - loss: 0.6910 - val_accuracy: 1.0000 - val_loss: 0.6385\n",
            "Epoch 22/100\n",
            "\u001b[1m1/1\u001b[0m \u001b[32m━━━━━━━━━━━━━━━━━━━━\u001b[0m\u001b[37m\u001b[0m \u001b[1m0s\u001b[0m 77ms/step - accuracy: 0.6250 - loss: 0.6771 - val_accuracy: 1.0000 - val_loss: 0.6360\n",
            "Epoch 23/100\n",
            "\u001b[1m1/1\u001b[0m \u001b[32m━━━━━━━━━━━━━━━━━━━━\u001b[0m\u001b[37m\u001b[0m \u001b[1m0s\u001b[0m 70ms/step - accuracy: 0.6250 - loss: 0.6918 - val_accuracy: 1.0000 - val_loss: 0.6336\n",
            "Epoch 24/100\n",
            "\u001b[1m1/1\u001b[0m \u001b[32m━━━━━━━━━━━━━━━━━━━━\u001b[0m\u001b[37m\u001b[0m \u001b[1m0s\u001b[0m 72ms/step - accuracy: 0.6250 - loss: 0.6906 - val_accuracy: 1.0000 - val_loss: 0.6315\n",
            "Epoch 25/100\n",
            "\u001b[1m1/1\u001b[0m \u001b[32m━━━━━━━━━━━━━━━━━━━━\u001b[0m\u001b[37m\u001b[0m \u001b[1m0s\u001b[0m 140ms/step - accuracy: 0.6250 - loss: 0.6910 - val_accuracy: 1.0000 - val_loss: 0.6298\n",
            "Epoch 26/100\n",
            "\u001b[1m1/1\u001b[0m \u001b[32m━━━━━━━━━━━━━━━━━━━━\u001b[0m\u001b[37m\u001b[0m \u001b[1m0s\u001b[0m 144ms/step - accuracy: 0.6250 - loss: 0.6838 - val_accuracy: 1.0000 - val_loss: 0.6283\n",
            "Epoch 27/100\n",
            "\u001b[1m1/1\u001b[0m \u001b[32m━━━━━━━━━━━━━━━━━━━━\u001b[0m\u001b[37m\u001b[0m \u001b[1m0s\u001b[0m 146ms/step - accuracy: 0.6250 - loss: 0.6798 - val_accuracy: 1.0000 - val_loss: 0.6266\n",
            "Epoch 28/100\n",
            "\u001b[1m1/1\u001b[0m \u001b[32m━━━━━━━━━━━━━━━━━━━━\u001b[0m\u001b[37m\u001b[0m \u001b[1m0s\u001b[0m 133ms/step - accuracy: 0.6250 - loss: 0.6768 - val_accuracy: 1.0000 - val_loss: 0.6247\n",
            "Epoch 29/100\n",
            "\u001b[1m1/1\u001b[0m \u001b[32m━━━━━━━━━━━━━━━━━━━━\u001b[0m\u001b[37m\u001b[0m \u001b[1m0s\u001b[0m 132ms/step - accuracy: 0.6250 - loss: 0.6741 - val_accuracy: 1.0000 - val_loss: 0.6225\n",
            "Epoch 30/100\n",
            "\u001b[1m1/1\u001b[0m \u001b[32m━━━━━━━━━━━━━━━━━━━━\u001b[0m\u001b[37m\u001b[0m \u001b[1m0s\u001b[0m 73ms/step - accuracy: 0.6250 - loss: 0.6831 - val_accuracy: 1.0000 - val_loss: 0.6206\n",
            "Epoch 31/100\n",
            "\u001b[1m1/1\u001b[0m \u001b[32m━━━━━━━━━━━━━━━━━━━━\u001b[0m\u001b[37m\u001b[0m \u001b[1m0s\u001b[0m 69ms/step - accuracy: 0.6250 - loss: 0.6602 - val_accuracy: 1.0000 - val_loss: 0.6181\n",
            "Epoch 32/100\n",
            "\u001b[1m1/1\u001b[0m \u001b[32m━━━━━━━━━━━━━━━━━━━━\u001b[0m\u001b[37m\u001b[0m \u001b[1m0s\u001b[0m 74ms/step - accuracy: 0.6250 - loss: 0.6680 - val_accuracy: 1.0000 - val_loss: 0.6153\n",
            "Epoch 33/100\n",
            "\u001b[1m1/1\u001b[0m \u001b[32m━━━━━━━━━━━━━━━━━━━━\u001b[0m\u001b[37m\u001b[0m \u001b[1m0s\u001b[0m 66ms/step - accuracy: 0.6250 - loss: 0.6646 - val_accuracy: 1.0000 - val_loss: 0.6121\n",
            "Epoch 34/100\n",
            "\u001b[1m1/1\u001b[0m \u001b[32m━━━━━━━━━━━━━━━━━━━━\u001b[0m\u001b[37m\u001b[0m \u001b[1m0s\u001b[0m 67ms/step - accuracy: 0.6250 - loss: 0.6845 - val_accuracy: 1.0000 - val_loss: 0.6090\n",
            "Epoch 35/100\n",
            "\u001b[1m1/1\u001b[0m \u001b[32m━━━━━━━━━━━━━━━━━━━━\u001b[0m\u001b[37m\u001b[0m \u001b[1m0s\u001b[0m 142ms/step - accuracy: 0.6250 - loss: 0.6762 - val_accuracy: 1.0000 - val_loss: 0.6060\n",
            "Epoch 36/100\n",
            "\u001b[1m1/1\u001b[0m \u001b[32m━━━━━━━━━━━━━━━━━━━━\u001b[0m\u001b[37m\u001b[0m \u001b[1m0s\u001b[0m 75ms/step - accuracy: 0.6250 - loss: 0.6696 - val_accuracy: 1.0000 - val_loss: 0.6030\n",
            "Epoch 37/100\n",
            "\u001b[1m1/1\u001b[0m \u001b[32m━━━━━━━━━━━━━━━━━━━━\u001b[0m\u001b[37m\u001b[0m \u001b[1m0s\u001b[0m 79ms/step - accuracy: 0.6250 - loss: 0.6736 - val_accuracy: 1.0000 - val_loss: 0.6001\n",
            "Epoch 38/100\n",
            "\u001b[1m1/1\u001b[0m \u001b[32m━━━━━━━━━━━━━━━━━━━━\u001b[0m\u001b[37m\u001b[0m \u001b[1m0s\u001b[0m 75ms/step - accuracy: 0.6250 - loss: 0.6637 - val_accuracy: 1.0000 - val_loss: 0.5969\n",
            "Epoch 39/100\n",
            "\u001b[1m1/1\u001b[0m \u001b[32m━━━━━━━━━━━━━━━━━━━━\u001b[0m\u001b[37m\u001b[0m \u001b[1m0s\u001b[0m 146ms/step - accuracy: 0.6250 - loss: 0.6703 - val_accuracy: 1.0000 - val_loss: 0.5937\n",
            "Epoch 40/100\n",
            "\u001b[1m1/1\u001b[0m \u001b[32m━━━━━━━━━━━━━━━━━━━━\u001b[0m\u001b[37m\u001b[0m \u001b[1m0s\u001b[0m 140ms/step - accuracy: 0.6250 - loss: 0.6899 - val_accuracy: 1.0000 - val_loss: 0.5909\n",
            "Epoch 41/100\n",
            "\u001b[1m1/1\u001b[0m \u001b[32m━━━━━━━━━━━━━━━━━━━━\u001b[0m\u001b[37m\u001b[0m \u001b[1m0s\u001b[0m 66ms/step - accuracy: 0.6250 - loss: 0.6659 - val_accuracy: 1.0000 - val_loss: 0.5879\n",
            "Epoch 42/100\n",
            "\u001b[1m1/1\u001b[0m \u001b[32m━━━━━━━━━━━━━━━━━━━━\u001b[0m\u001b[37m\u001b[0m \u001b[1m0s\u001b[0m 72ms/step - accuracy: 0.6250 - loss: 0.6712 - val_accuracy: 1.0000 - val_loss: 0.5851\n",
            "Epoch 43/100\n",
            "\u001b[1m1/1\u001b[0m \u001b[32m━━━━━━━━━━━━━━━━━━━━\u001b[0m\u001b[37m\u001b[0m \u001b[1m0s\u001b[0m 141ms/step - accuracy: 0.6250 - loss: 0.6649 - val_accuracy: 1.0000 - val_loss: 0.5819\n",
            "Epoch 44/100\n",
            "\u001b[1m1/1\u001b[0m \u001b[32m━━━━━━━━━━━━━━━━━━━━\u001b[0m\u001b[37m\u001b[0m \u001b[1m0s\u001b[0m 77ms/step - accuracy: 0.6250 - loss: 0.6747 - val_accuracy: 1.0000 - val_loss: 0.5789\n",
            "Epoch 45/100\n",
            "\u001b[1m1/1\u001b[0m \u001b[32m━━━━━━━━━━━━━━━━━━━━\u001b[0m\u001b[37m\u001b[0m \u001b[1m0s\u001b[0m 137ms/step - accuracy: 0.6250 - loss: 0.6608 - val_accuracy: 1.0000 - val_loss: 0.5758\n",
            "Epoch 46/100\n",
            "\u001b[1m1/1\u001b[0m \u001b[32m━━━━━━━━━━━━━━━━━━━━\u001b[0m\u001b[37m\u001b[0m \u001b[1m0s\u001b[0m 66ms/step - accuracy: 0.6250 - loss: 0.6849 - val_accuracy: 1.0000 - val_loss: 0.5730\n",
            "Epoch 47/100\n",
            "\u001b[1m1/1\u001b[0m \u001b[32m━━━━━━━━━━━━━━━━━━━━\u001b[0m\u001b[37m\u001b[0m \u001b[1m0s\u001b[0m 149ms/step - accuracy: 0.6250 - loss: 0.6987 - val_accuracy: 1.0000 - val_loss: 0.5710\n",
            "Epoch 48/100\n",
            "\u001b[1m1/1\u001b[0m \u001b[32m━━━━━━━━━━━━━━━━━━━━\u001b[0m\u001b[37m\u001b[0m \u001b[1m0s\u001b[0m 131ms/step - accuracy: 0.6250 - loss: 0.6869 - val_accuracy: 1.0000 - val_loss: 0.5694\n",
            "Epoch 49/100\n",
            "\u001b[1m1/1\u001b[0m \u001b[32m━━━━━━━━━━━━━━━━━━━━\u001b[0m\u001b[37m\u001b[0m \u001b[1m0s\u001b[0m 70ms/step - accuracy: 0.6250 - loss: 0.6809 - val_accuracy: 1.0000 - val_loss: 0.5679\n",
            "Epoch 50/100\n",
            "\u001b[1m1/1\u001b[0m \u001b[32m━━━━━━━━━━━━━━━━━━━━\u001b[0m\u001b[37m\u001b[0m \u001b[1m0s\u001b[0m 142ms/step - accuracy: 0.6250 - loss: 0.6757 - val_accuracy: 1.0000 - val_loss: 0.5664\n",
            "Epoch 51/100\n",
            "\u001b[1m1/1\u001b[0m \u001b[32m━━━━━━━━━━━━━━━━━━━━\u001b[0m\u001b[37m\u001b[0m \u001b[1m0s\u001b[0m 70ms/step - accuracy: 0.6250 - loss: 0.6559 - val_accuracy: 1.0000 - val_loss: 0.5645\n",
            "Epoch 52/100\n",
            "\u001b[1m1/1\u001b[0m \u001b[32m━━━━━━━━━━━━━━━━━━━━\u001b[0m\u001b[37m\u001b[0m \u001b[1m0s\u001b[0m 67ms/step - accuracy: 0.6250 - loss: 0.6648 - val_accuracy: 1.0000 - val_loss: 0.5625\n",
            "Epoch 53/100\n",
            "\u001b[1m1/1\u001b[0m \u001b[32m━━━━━━━━━━━━━━━━━━━━\u001b[0m\u001b[37m\u001b[0m \u001b[1m0s\u001b[0m 70ms/step - accuracy: 0.6250 - loss: 0.6717 - val_accuracy: 1.0000 - val_loss: 0.5605\n",
            "Epoch 54/100\n",
            "\u001b[1m1/1\u001b[0m \u001b[32m━━━━━━━━━━━━━━━━━━━━\u001b[0m\u001b[37m\u001b[0m \u001b[1m0s\u001b[0m 69ms/step - accuracy: 0.6250 - loss: 0.6885 - val_accuracy: 1.0000 - val_loss: 0.5588\n",
            "Epoch 55/100\n",
            "\u001b[1m1/1\u001b[0m \u001b[32m━━━━━━━━━━━━━━━━━━━━\u001b[0m\u001b[37m\u001b[0m \u001b[1m0s\u001b[0m 139ms/step - accuracy: 0.6250 - loss: 0.6675 - val_accuracy: 1.0000 - val_loss: 0.5567\n",
            "Epoch 56/100\n",
            "\u001b[1m1/1\u001b[0m \u001b[32m━━━━━━━━━━━━━━━━━━━━\u001b[0m\u001b[37m\u001b[0m \u001b[1m0s\u001b[0m 73ms/step - accuracy: 0.6250 - loss: 0.6481 - val_accuracy: 1.0000 - val_loss: 0.5540\n",
            "Epoch 57/100\n",
            "\u001b[1m1/1\u001b[0m \u001b[32m━━━━━━━━━━━━━━━━━━━━\u001b[0m\u001b[37m\u001b[0m \u001b[1m0s\u001b[0m 73ms/step - accuracy: 0.6250 - loss: 0.6648 - val_accuracy: 1.0000 - val_loss: 0.5510\n",
            "Epoch 58/100\n",
            "\u001b[1m1/1\u001b[0m \u001b[32m━━━━━━━━━━━━━━━━━━━━\u001b[0m\u001b[37m\u001b[0m \u001b[1m0s\u001b[0m 138ms/step - accuracy: 0.6250 - loss: 0.6888 - val_accuracy: 1.0000 - val_loss: 0.5487\n",
            "Epoch 59/100\n",
            "\u001b[1m1/1\u001b[0m \u001b[32m━━━━━━━━━━━━━━━━━━━━\u001b[0m\u001b[37m\u001b[0m \u001b[1m0s\u001b[0m 138ms/step - accuracy: 0.6250 - loss: 0.6570 - val_accuracy: 1.0000 - val_loss: 0.5460\n",
            "Epoch 60/100\n",
            "\u001b[1m1/1\u001b[0m \u001b[32m━━━━━━━━━━━━━━━━━━━━\u001b[0m\u001b[37m\u001b[0m \u001b[1m0s\u001b[0m 73ms/step - accuracy: 0.6250 - loss: 0.6628 - val_accuracy: 1.0000 - val_loss: 0.5434\n",
            "Epoch 61/100\n",
            "\u001b[1m1/1\u001b[0m \u001b[32m━━━━━━━━━━━━━━━━━━━━\u001b[0m\u001b[37m\u001b[0m \u001b[1m0s\u001b[0m 80ms/step - accuracy: 0.6250 - loss: 0.6671 - val_accuracy: 1.0000 - val_loss: 0.5407\n",
            "Epoch 62/100\n",
            "\u001b[1m1/1\u001b[0m \u001b[32m━━━━━━━━━━━━━━━━━━━━\u001b[0m\u001b[37m\u001b[0m \u001b[1m0s\u001b[0m 82ms/step - accuracy: 0.6250 - loss: 0.6859 - val_accuracy: 1.0000 - val_loss: 0.5385\n",
            "Epoch 63/100\n",
            "\u001b[1m1/1\u001b[0m \u001b[32m━━━━━━━━━━━━━━━━━━━━\u001b[0m\u001b[37m\u001b[0m \u001b[1m0s\u001b[0m 75ms/step - accuracy: 0.6250 - loss: 0.6709 - val_accuracy: 1.0000 - val_loss: 0.5364\n",
            "Epoch 64/100\n",
            "\u001b[1m1/1\u001b[0m \u001b[32m━━━━━━━━━━━━━━━━━━━━\u001b[0m\u001b[37m\u001b[0m \u001b[1m0s\u001b[0m 152ms/step - accuracy: 0.6250 - loss: 0.7232 - val_accuracy: 1.0000 - val_loss: 0.5361\n",
            "Epoch 65/100\n",
            "\u001b[1m1/1\u001b[0m \u001b[32m━━━━━━━━━━━━━━━━━━━━\u001b[0m\u001b[37m\u001b[0m \u001b[1m0s\u001b[0m 84ms/step - accuracy: 0.6250 - loss: 0.6504 - val_accuracy: 1.0000 - val_loss: 0.5355\n",
            "Epoch 66/100\n",
            "\u001b[1m1/1\u001b[0m \u001b[32m━━━━━━━━━━━━━━━━━━━━\u001b[0m\u001b[37m\u001b[0m \u001b[1m0s\u001b[0m 84ms/step - accuracy: 0.6250 - loss: 0.6713 - val_accuracy: 1.0000 - val_loss: 0.5354\n",
            "Epoch 67/100\n",
            "\u001b[1m1/1\u001b[0m \u001b[32m━━━━━━━━━━━━━━━━━━━━\u001b[0m\u001b[37m\u001b[0m \u001b[1m0s\u001b[0m 128ms/step - accuracy: 0.6250 - loss: 0.6823 - val_accuracy: 1.0000 - val_loss: 0.5354\n",
            "Epoch 68/100\n",
            "\u001b[1m1/1\u001b[0m \u001b[32m━━━━━━━━━━━━━━━━━━━━\u001b[0m\u001b[37m\u001b[0m \u001b[1m0s\u001b[0m 80ms/step - accuracy: 0.6250 - loss: 0.6404 - val_accuracy: 1.0000 - val_loss: 0.5348\n",
            "Epoch 69/100\n",
            "\u001b[1m1/1\u001b[0m \u001b[32m━━━━━━━━━━━━━━━━━━━━\u001b[0m\u001b[37m\u001b[0m \u001b[1m0s\u001b[0m 147ms/step - accuracy: 0.6250 - loss: 0.6639 - val_accuracy: 1.0000 - val_loss: 0.5342\n",
            "Epoch 70/100\n",
            "\u001b[1m1/1\u001b[0m \u001b[32m━━━━━━━━━━━━━━━━━━━━\u001b[0m\u001b[37m\u001b[0m \u001b[1m0s\u001b[0m 138ms/step - accuracy: 0.6250 - loss: 0.6697 - val_accuracy: 1.0000 - val_loss: 0.5338\n",
            "Epoch 71/100\n",
            "\u001b[1m1/1\u001b[0m \u001b[32m━━━━━━━━━━━━━━━━━━━━\u001b[0m\u001b[37m\u001b[0m \u001b[1m0s\u001b[0m 82ms/step - accuracy: 0.6250 - loss: 0.6616 - val_accuracy: 1.0000 - val_loss: 0.5336\n",
            "Epoch 72/100\n",
            "\u001b[1m1/1\u001b[0m \u001b[32m━━━━━━━━━━━━━━━━━━━━\u001b[0m\u001b[37m\u001b[0m \u001b[1m0s\u001b[0m 86ms/step - accuracy: 0.6250 - loss: 0.6588 - val_accuracy: 1.0000 - val_loss: 0.5332\n",
            "Epoch 73/100\n",
            "\u001b[1m1/1\u001b[0m \u001b[32m━━━━━━━━━━━━━━━━━━━━\u001b[0m\u001b[37m\u001b[0m \u001b[1m0s\u001b[0m 83ms/step - accuracy: 0.6250 - loss: 0.6695 - val_accuracy: 1.0000 - val_loss: 0.5329\n",
            "Epoch 74/100\n",
            "\u001b[1m1/1\u001b[0m \u001b[32m━━━━━━━━━━━━━━━━━━━━\u001b[0m\u001b[37m\u001b[0m \u001b[1m0s\u001b[0m 83ms/step - accuracy: 0.6250 - loss: 0.6822 - val_accuracy: 1.0000 - val_loss: 0.5331\n",
            "Epoch 75/100\n",
            "\u001b[1m1/1\u001b[0m \u001b[32m━━━━━━━━━━━━━━━━━━━━\u001b[0m\u001b[37m\u001b[0m \u001b[1m0s\u001b[0m 139ms/step - accuracy: 0.6250 - loss: 0.6479 - val_accuracy: 1.0000 - val_loss: 0.5327\n",
            "Epoch 76/100\n",
            "\u001b[1m1/1\u001b[0m \u001b[32m━━━━━━━━━━━━━━━━━━━━\u001b[0m\u001b[37m\u001b[0m \u001b[1m0s\u001b[0m 83ms/step - accuracy: 0.6250 - loss: 0.6530 - val_accuracy: 1.0000 - val_loss: 0.5319\n",
            "Epoch 77/100\n",
            "\u001b[1m1/1\u001b[0m \u001b[32m━━━━━━━━━━━━━━━━━━━━\u001b[0m\u001b[37m\u001b[0m \u001b[1m0s\u001b[0m 105ms/step - accuracy: 0.6250 - loss: 0.6564 - val_accuracy: 1.0000 - val_loss: 0.5309\n",
            "Epoch 78/100\n",
            "\u001b[1m1/1\u001b[0m \u001b[32m━━━━━━━━━━━━━━━━━━━━\u001b[0m\u001b[37m\u001b[0m \u001b[1m0s\u001b[0m 85ms/step - accuracy: 0.6250 - loss: 0.6564 - val_accuracy: 1.0000 - val_loss: 0.5299\n",
            "Epoch 79/100\n",
            "\u001b[1m1/1\u001b[0m \u001b[32m━━━━━━━━━━━━━━━━━━━━\u001b[0m\u001b[37m\u001b[0m \u001b[1m0s\u001b[0m 133ms/step - accuracy: 0.6250 - loss: 0.6389 - val_accuracy: 1.0000 - val_loss: 0.5283\n",
            "Epoch 80/100\n",
            "\u001b[1m1/1\u001b[0m \u001b[32m━━━━━━━━━━━━━━━━━━━━\u001b[0m\u001b[37m\u001b[0m \u001b[1m0s\u001b[0m 153ms/step - accuracy: 0.6250 - loss: 0.6606 - val_accuracy: 1.0000 - val_loss: 0.5269\n",
            "Epoch 81/100\n",
            "\u001b[1m1/1\u001b[0m \u001b[32m━━━━━━━━━━━━━━━━━━━━\u001b[0m\u001b[37m\u001b[0m \u001b[1m0s\u001b[0m 71ms/step - accuracy: 0.6250 - loss: 0.6562 - val_accuracy: 1.0000 - val_loss: 0.5252\n",
            "Epoch 82/100\n",
            "\u001b[1m1/1\u001b[0m \u001b[32m━━━━━━━━━━━━━━━━━━━━\u001b[0m\u001b[37m\u001b[0m \u001b[1m0s\u001b[0m 81ms/step - accuracy: 0.6250 - loss: 0.6620 - val_accuracy: 1.0000 - val_loss: 0.5237\n",
            "Epoch 83/100\n",
            "\u001b[1m1/1\u001b[0m \u001b[32m━━━━━━━━━━━━━━━━━━━━\u001b[0m\u001b[37m\u001b[0m \u001b[1m0s\u001b[0m 129ms/step - accuracy: 0.6250 - loss: 0.6576 - val_accuracy: 1.0000 - val_loss: 0.5220\n",
            "Epoch 84/100\n",
            "\u001b[1m1/1\u001b[0m \u001b[32m━━━━━━━━━━━━━━━━━━━━\u001b[0m\u001b[37m\u001b[0m \u001b[1m0s\u001b[0m 74ms/step - accuracy: 0.6250 - loss: 0.6604 - val_accuracy: 1.0000 - val_loss: 0.5203\n",
            "Epoch 85/100\n",
            "\u001b[1m1/1\u001b[0m \u001b[32m━━━━━━━━━━━━━━━━━━━━\u001b[0m\u001b[37m\u001b[0m \u001b[1m0s\u001b[0m 134ms/step - accuracy: 0.6250 - loss: 0.6621 - val_accuracy: 1.0000 - val_loss: 0.5193\n",
            "Epoch 86/100\n",
            "\u001b[1m1/1\u001b[0m \u001b[32m━━━━━━━━━━━━━━━━━━━━\u001b[0m\u001b[37m\u001b[0m \u001b[1m0s\u001b[0m 83ms/step - accuracy: 0.6250 - loss: 0.6056 - val_accuracy: 1.0000 - val_loss: 0.5164\n",
            "Epoch 87/100\n",
            "\u001b[1m1/1\u001b[0m \u001b[32m━━━━━━━━━━━━━━━━━━━━\u001b[0m\u001b[37m\u001b[0m \u001b[1m0s\u001b[0m 78ms/step - accuracy: 0.6250 - loss: 0.6776 - val_accuracy: 1.0000 - val_loss: 0.5140\n",
            "Epoch 88/100\n",
            "\u001b[1m1/1\u001b[0m \u001b[32m━━━━━━━━━━━━━━━━━━━━\u001b[0m\u001b[37m\u001b[0m \u001b[1m0s\u001b[0m 71ms/step - accuracy: 0.6250 - loss: 0.6555 - val_accuracy: 1.0000 - val_loss: 0.5123\n",
            "Epoch 89/100\n",
            "\u001b[1m1/1\u001b[0m \u001b[32m━━━━━━━━━━━━━━━━━━━━\u001b[0m\u001b[37m\u001b[0m \u001b[1m0s\u001b[0m 72ms/step - accuracy: 0.6250 - loss: 0.6558 - val_accuracy: 1.0000 - val_loss: 0.5106\n",
            "Epoch 90/100\n",
            "\u001b[1m1/1\u001b[0m \u001b[32m━━━━━━━━━━━━━━━━━━━━\u001b[0m\u001b[37m\u001b[0m \u001b[1m0s\u001b[0m 146ms/step - accuracy: 0.6250 - loss: 0.6971 - val_accuracy: 1.0000 - val_loss: 0.5107\n",
            "Epoch 91/100\n",
            "\u001b[1m1/1\u001b[0m \u001b[32m━━━━━━━━━━━━━━━━━━━━\u001b[0m\u001b[37m\u001b[0m \u001b[1m0s\u001b[0m 135ms/step - accuracy: 0.6250 - loss: 0.6440 - val_accuracy: 1.0000 - val_loss: 0.5106\n",
            "Epoch 92/100\n",
            "\u001b[1m1/1\u001b[0m \u001b[32m━━━━━━━━━━━━━━━━━━━━\u001b[0m\u001b[37m\u001b[0m \u001b[1m0s\u001b[0m 78ms/step - accuracy: 0.6250 - loss: 0.6315 - val_accuracy: 1.0000 - val_loss: 0.5099\n",
            "Epoch 93/100\n",
            "\u001b[1m1/1\u001b[0m \u001b[32m━━━━━━━━━━━━━━━━━━━━\u001b[0m\u001b[37m\u001b[0m \u001b[1m0s\u001b[0m 78ms/step - accuracy: 0.6250 - loss: 0.6490 - val_accuracy: 1.0000 - val_loss: 0.5095\n",
            "Epoch 94/100\n",
            "\u001b[1m1/1\u001b[0m \u001b[32m━━━━━━━━━━━━━━━━━━━━\u001b[0m\u001b[37m\u001b[0m \u001b[1m0s\u001b[0m 139ms/step - accuracy: 0.6250 - loss: 0.6569 - val_accuracy: 1.0000 - val_loss: 0.5095\n",
            "Epoch 95/100\n",
            "\u001b[1m1/1\u001b[0m \u001b[32m━━━━━━━━━━━━━━━━━━━━\u001b[0m\u001b[37m\u001b[0m \u001b[1m0s\u001b[0m 139ms/step - accuracy: 0.6250 - loss: 0.6524 - val_accuracy: 1.0000 - val_loss: 0.5098\n",
            "Epoch 96/100\n",
            "\u001b[1m1/1\u001b[0m \u001b[32m━━━━━━━━━━━━━━━━━━━━\u001b[0m\u001b[37m\u001b[0m \u001b[1m0s\u001b[0m 140ms/step - accuracy: 0.6250 - loss: 0.6563 - val_accuracy: 1.0000 - val_loss: 0.5098\n",
            "Epoch 97/100\n",
            "\u001b[1m1/1\u001b[0m \u001b[32m━━━━━━━━━━━━━━━━━━━━\u001b[0m\u001b[37m\u001b[0m \u001b[1m0s\u001b[0m 140ms/step - accuracy: 0.6250 - loss: 0.6658 - val_accuracy: 1.0000 - val_loss: 0.5105\n",
            "Epoch 98/100\n",
            "\u001b[1m1/1\u001b[0m \u001b[32m━━━━━━━━━━━━━━━━━━━━\u001b[0m\u001b[37m\u001b[0m \u001b[1m0s\u001b[0m 132ms/step - accuracy: 0.6250 - loss: 0.6360 - val_accuracy: 1.0000 - val_loss: 0.5102\n",
            "Epoch 99/100\n",
            "\u001b[1m1/1\u001b[0m \u001b[32m━━━━━━━━━━━━━━━━━━━━\u001b[0m\u001b[37m\u001b[0m \u001b[1m0s\u001b[0m 75ms/step - accuracy: 0.6250 - loss: 0.6122 - val_accuracy: 1.0000 - val_loss: 0.5093\n",
            "Epoch 100/100\n",
            "\u001b[1m1/1\u001b[0m \u001b[32m━━━━━━━━━━━━━━━━━━━━\u001b[0m\u001b[37m\u001b[0m \u001b[1m0s\u001b[0m 143ms/step - accuracy: 0.6250 - loss: 0.6443 - val_accuracy: 1.0000 - val_loss: 0.5095\n"
          ]
        }
      ],
      "source": [
        "x,y = slidingwindow(LOOKBACK)\n",
        "\n",
        "\n",
        "model = tf.keras.Sequential([\n",
        "\n",
        "                tf.keras.layers.LSTM(64, return_sequences= True, input_shape= (LOOKBACK, 2)),\n",
        "                tf.keras.layers.Dropout(0.2),\n",
        "                tf.keras.layers.LSTM(32, return_sequences=False),\n",
        "                tf.keras.layers.Dropout(0.5),\n",
        "                tf.keras.layers.Dense(16, activation = 'relu'),\n",
        "                tf.keras.layers.Dropout(0.3),\n",
        "\n",
        "                tf.keras.layers.Dense(1, activation = 'sigmoid')\n",
        "])\n",
        "\n",
        "\n",
        "model.compile(\n",
        "  optimizer = tf.keras.optimizers.Adam (learning_rate=0.001),\n",
        "  loss = 'binary_crossentropy',\n",
        "  metrics = ['accuracy']\n",
        ")\n",
        "\n",
        "modelfit = model.fit(x, y, epochs=100, batch_size=32, validation_split=0.2, verbose=1)\n",
        "\n",
        "testings = np.array(testinput[-3:]).reshape((1, 3, 2))"
      ]
    },
    {
      "cell_type": "code",
      "source": [
        "plt.plot(modelfit.history['accuracy'], label = 'train accuracy')\n",
        "plt.title('History of LSTM Modell der Accuracy')\n",
        "plt.xlabel('Epochs')\n",
        "plt.ylabel('Accuracy') ## die Accuracy wird besser"
      ],
      "metadata": {
        "id": "nwH9QtYhuvaK",
        "colab": {
          "base_uri": "https://localhost:8080/",
          "height": 489
        },
        "outputId": "f68842fe-8f18-477f-b4dd-c376ab3e7845"
      },
      "execution_count": 131,
      "outputs": [
        {
          "output_type": "execute_result",
          "data": {
            "text/plain": [
              "Text(0, 0.5, 'Accuracy')"
            ]
          },
          "metadata": {},
          "execution_count": 131
        },
        {
          "output_type": "display_data",
          "data": {
            "text/plain": [
              "<Figure size 640x480 with 1 Axes>"
            ],
            "image/png": "[encoded data removed]"
          },
          "metadata": {}
        }
      ]
    },
    {
      "cell_type": "code",
      "execution_count": 132,
      "metadata": {
        "id": "s5OpJmYfdVkB",
        "colab": {
          "base_uri": "https://localhost:8080/"
        },
        "outputId": "6aa730e9-1e44-4ee2-b7bf-196b29fe3dfe"
      },
      "outputs": [
        {
          "output_type": "stream",
          "name": "stdout",
          "text": [
            "\u001b[1m1/1\u001b[0m \u001b[32m━━━━━━━━━━━━━━━━━━━━\u001b[0m\u001b[37m\u001b[0m \u001b[1m0s\u001b[0m 33ms/step - accuracy: 0.7273 - loss: 0.6055\n"
          ]
        }
      ],
      "source": [
        "accuracy, loss = model.evaluate(x,y)\n",
        "\n"
      ]
    },
    {
      "cell_type": "code",
      "source": [
        "predict = model.predict(testinput[-3:].reshape(1,3,2))"
      ],
      "metadata": {
        "id": "t9o72DlusZlm",
        "colab": {
          "base_uri": "https://localhost:8080/"
        },
        "outputId": "d917a0cc-1f00-49d0-d30f-d71746a5c4a1"
      },
      "execution_count": 133,
      "outputs": [
        {
          "output_type": "stream",
          "name": "stdout",
          "text": [
            "\u001b[1m1/1\u001b[0m \u001b[32m━━━━━━━━━━━━━━━━━━━━\u001b[0m\u001b[37m\u001b[0m \u001b[1m0s\u001b[0m 234ms/step\n"
          ]
        }
      ]
    },
    {
      "cell_type": "code",
      "source": [
        "print(f'Model Accuracacy liegt bei {accuracy}')\n",
        "print(f'Wahrscheinlichkeit, dass der Kurs morgen steigt liegt bei {predict}')"
      ],
      "metadata": {
        "id": "V1QuuM4SuNeu",
        "colab": {
          "base_uri": "https://localhost:8080/"
        },
        "outputId": "83ca056f-309e-40a4-9232-f142a502ced6"
      },
      "execution_count": 134,
      "outputs": [
        {
          "output_type": "stream",
          "name": "stdout",
          "text": [
            "Model Accuracacy liegt bei 0.6054579019546509\n",
            "Wahrscheinlichkeit, dass der Kurs morgen steigt liegt bei [[0.6013559]]\n"
          ]
        }
      ]
    },
    {
      "cell_type": "markdown",
      "source": [],
      "metadata": {
        "id": "mpUL7ctqtQ8L"
      }
    }
  ],
  "metadata": {
    "colab": {
      "provenance": [],
      "authorship_tag": "ABX9TyOxlAt/ZHRFv+LC5Lsgj2K0",
      "include_colab_link": true
    },
    "kernelspec": {
      "display_name": "Python 3",
      "name": "python3"
    },
    "language_info": {
      "name": "python"
    }
  },
  "nbformat": 4,
  "nbformat_minor": 0
}