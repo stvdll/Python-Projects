{
  "nbformat": 4,
  "nbformat_minor": 0,
  "metadata": {
    "colab": {
      "provenance": [],
      "authorship_tag": "ABX9TyOrlwxVf5ioXUsrIjG7E0+P",
      "include_colab_link": true
    },
    "kernelspec": {
      "name": "python3",
      "display_name": "Python 3"
    },
    "language_info": {
      "name": "python"
    }
  },
  "cells": [
    {
      "cell_type": "markdown",
      "metadata": {
        "id": "view-in-github",
        "colab_type": "text"
      },
      "source": [
        "<a href=\"https://colab.research.google.com/github/stvdll/Python-Projects/blob/main/Rock_Paper_Scissors.ipynb\" target=\"_parent\"><img src=\"https://colab.research.google.com/assets/colab-badge.svg\" alt=\"Open In Colab\"/></a>"
      ]
    },
    {
      "cell_type": "code",
      "execution_count": null,
      "metadata": {
        "id": "fAj3JjuutRRa"
      },
      "outputs": [],
      "source": [
        "import random\n",
        "\n",
        "computer_win = 0\n",
        "user_win = 0\n",
        "game_options = ['rock', 'paper', 'scissors']\n",
        "\n",
        "while True:\n",
        "    game = input('Rock, paper, scissors? (q to quit): ').lower()\n",
        "    if game == 'q':\n",
        "        break\n",
        "\n",
        "    if game not in game_options:\n",
        "        print(\"Invalid input. Please choose rock, paper, or scissors.\")\n",
        "        continue\n",
        "\n",
        "    computer_pick = random.choice(game_options)\n",
        "    print('Computer picked:', computer_pick)\n",
        "\n",
        "    if game == 'rock' and computer_pick == 'scissors':\n",
        "        print('You won!')\n",
        "        user_win += 1\n",
        "\n",
        "    elif game == 'scissors' and computer_pick == 'paper':\n",
        "        print('You won!')\n",
        "        user_win += 1\n",
        "\n",
        "    elif game == 'paper' and computer_pick == 'rock':\n",
        "        print('You won!')\n",
        "        user_win += 1\n",
        "\n",
        "    elif game == computer_pick:\n",
        "        print('It\\'s a tie!')\n",
        "\n",
        "    else:\n",
        "        print('Computer won!')\n",
        "        computer_win += 1\n",
        "\n",
        "    print(f'Final Score — You: {user_win}, Computer: {computer_win}')"
      ]
    }
  ]
}