{
  "nbformat": 4,
  "nbformat_minor": 0,
  "metadata": {
    "colab": {
      "provenance": [],
      "authorship_tag": "ABX9TyOoCmfHmppx4vzSYxM10WyH",
      "include_colab_link": true
    },
    "kernelspec": {
      "name": "python3",
      "display_name": "Python 3"
    },
    "language_info": {
      "name": "python"
    }
  },
  "cells": [
    {
      "cell_type": "markdown",
      "metadata": {
        "id": "view-in-github",
        "colab_type": "text"
      },
      "source": [
        "<a href=\"https://colab.research.google.com/github/stvdll/Python-Projects/blob/main/Game_of_Dice.ipynb\" target=\"_parent\"><img src=\"https://colab.research.google.com/assets/colab-badge.svg\" alt=\"Open In Colab\"/></a>"
      ]
    },
    {
      "cell_type": "code",
      "execution_count": null,
      "metadata": {
        "id": "T5Y_p9suIvNb"
      },
      "outputs": [],
      "source": [
        "import random\n",
        "\n",
        "\n",
        "def roll():\n",
        "    min_value = 1\n",
        "    max_value = 6\n",
        "    roll = random.randint(min_value, max_value)\n",
        "\n",
        "    return roll\n",
        "\n",
        "while True:\n",
        "    players = int(input(\"Number of Players participating: \"))\n",
        "\n",
        "    if players<2 or players>4:\n",
        "\n",
        "        print('Invalid number of players.')\n",
        "        print(\"Between 2-4\")\n",
        "\n",
        "    else:\n",
        "        break\n",
        "\n",
        "\n",
        "max_score = 10\n",
        "players_score = [0 for _ in range(players)]\n",
        "\n",
        "game_over = False\n",
        "\n",
        "print(f'Welcome to the Dice Game!! If you  reach the target of {max_score} you will win. Whenever you dice a 1, your score will get resetted. ')\n",
        "\n",
        "while not game_over:\n",
        "\n",
        "\n",
        "    for player_index in range (players):\n",
        "        current_score = 0\n",
        "        print ('player number', player_index + 1, 'turn has started.' )\n",
        "\n",
        "\n",
        "\n",
        "        while True:\n",
        "\n",
        "            should_roll = input(\"Would you like to roll? type(y)?: \")\n",
        "            if should_roll.lower() !=\"y\":\n",
        "                break\n",
        "\n",
        "            value = roll()\n",
        "\n",
        "\n",
        "\n",
        "            if value == 1:\n",
        "                print('U rolled a 1. Turn done')\n",
        "                current_score = 0\n",
        "                break\n",
        "\n",
        "            else:\n",
        "                current_score += value\n",
        "\n",
        "                print('You rolled a: ', value)\n",
        "\n",
        "            print('Ur score is: ', current_score)\n",
        "\n",
        "            if current_score > max_score:\n",
        "                  print('missed target')\n",
        "                  current_score = 0\n",
        "                  break\n",
        "\n",
        "\n",
        "            elif current_score==max_score:\n",
        "              print(f'The Winner is: {(player_index) + 1}')\n",
        "\n",
        "              game_over = False\n",
        "\n",
        "              break\n",
        "\n",
        "\n",
        "\n",
        "    players_score[player_index] += current_score\n",
        "    print('Ur total score is: ', players_score[player_index])\n",
        "\n",
        "\n",
        "\n"
      ]
    }
  ]
}