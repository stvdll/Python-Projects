{
  "nbformat": 4,
  "nbformat_minor": 0,
  "metadata": {
    "colab": {
      "provenance": [],
      "authorship_tag": "ABX9TyNg15XobTSiQbDFX2EmSe3i",
      "include_colab_link": true
    },
    "kernelspec": {
      "name": "python3",
      "display_name": "Python 3"
    },
    "language_info": {
      "name": "python"
    }
  },
  "cells": [
    {
      "cell_type": "markdown",
      "metadata": {
        "id": "view-in-github",
        "colab_type": "text"
      },
      "source": [
        "<a href=\"https://colab.research.google.com/github/stvdll/Python-Projects/blob/main/Math_Game.ipynb\" target=\"_parent\"><img src=\"https://colab.research.google.com/assets/colab-badge.svg\" alt=\"Open In Colab\"/></a>"
      ]
    },
    {
      "cell_type": "code",
      "execution_count": null,
      "metadata": {
        "colab": {
          "base_uri": "https://localhost:8080/"
        },
        "id": "Nxh2BSXzuyIc",
        "outputId": "4bac6c27-1893-410e-fa41-2ab9f3b14bed"
      },
      "outputs": [
        {
          "output_type": "stream",
          "name": "stdout",
          "text": [
            "Du musst insgesamt 10 Aufgabenstellungen lösen! viel Glück\n"
          ]
        }
      ],
      "source": [
        "import random\n",
        "\n",
        "Operators = ['+', '-', '*']\n",
        "MIN_operand = 3\n",
        "MAX_operand = 12\n",
        "total_problem = 10\n",
        "\n",
        "print('Du musst insgesamt 10 Aufgabenstellungen lösen! viel Glück')\n",
        "def generate_problem():\n",
        "    Zahl_1 = random.randint(MIN_operand, MAX_operand)\n",
        "    Zahl_2 = random.randint(MIN_operand, MAX_operand)\n",
        "    operator = random.choice(Operators)\n",
        "    Ausdruck = str(Zahl_1) + operator + str(Zahl_2)\n",
        "    ergebniss = eval(Ausdruck)\n",
        "    return Ausdruck, ergebniss\n",
        "\n",
        "for i in range(total_problem):\n",
        "    Ausdruck, ergebniss = generate_problem()\n",
        "    while True:\n",
        "        guess = input(f'Problem {i + 1}: {Ausdruck} = ')\n",
        "        if guess == str(ergebniss):\n",
        "            print('Richtig!')\n",
        "            break\n",
        "        else:\n",
        "            print('Falsch, versuche es nochmal.')\n"
      ]
    }
  ]
}